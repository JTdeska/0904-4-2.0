{
 "cells": [
  {
   "cell_type": "code",
   "execution_count": 30,
   "metadata": {},
   "outputs": [
    {
     "name": "stdout",
     "output_type": "stream",
     "text": [
      "程式錯誤\n",
      "程式結束\n"
     ]
    }
   ],
   "source": [
    "try:\n",
    "    score = int(input(\"請輸入學生分數(最高300分):\"))\n",
    "    print(f\"您的分數是{score}\")\n",
    "except:\n",
    "    print(\"程式錯誤\")\n",
    "else:\n",
    "    is_add = input(\"學生是否符合加分條件?(y,n)\")\n",
    "    if (is_add == \"y\"):\n",
    "        score *=1.05\n",
    "        if score>300:\n",
    "            score = 300\n",
    "    print(int(score))\n",
    "    print(round(score))\n",
    "    print(f\"{score:.0f}\")\n",
    "print(\"程式結束\")"
   ]
  },
  {
   "cell_type": "code",
   "execution_count": 31,
   "metadata": {},
   "outputs": [
    {
     "name": "stdout",
     "output_type": "stream",
     "text": [
      "大於80\n"
     ]
    }
   ],
   "source": [
    "score = 89\n",
    "if score >= 60:\n",
    "    if score <= 80:\n",
    "        print(\"60~80\")\n",
    "    else:\n",
    "        print(\"大於80\")\n",
    "else:\n",
    "    print(\"低於60\")"
   ]
  },
  {
   "cell_type": "code",
   "execution_count": 32,
   "metadata": {},
   "outputs": [
    {
     "name": "stdout",
     "output_type": "stream",
     "text": [
      "60~80\n"
     ]
    }
   ],
   "source": [
    "score = 60\n",
    "if score >= 60 and score <= 80:\n",
    "    print(\"60~80\")\n",
    "else:\n",
    "    if score < 60:\n",
    "        print(\"小於60\")\n",
    "    else:\n",
    "        print(\"大於80\")"
   ]
  },
  {
   "cell_type": "code",
   "execution_count": 33,
   "metadata": {},
   "outputs": [
    {
     "name": "stdout",
     "output_type": "stream",
     "text": [
      "61~69間\n"
     ]
    }
   ],
   "source": [
    "score = 75 \n",
    "\n",
    "if score <= 60 or score >= 80:\n",
    "    print(\"小於等於60或大於等於80\")\n",
    "else:\n",
    "    print(\"61~69間\")"
   ]
  },
  {
   "cell_type": "code",
   "execution_count": 34,
   "metadata": {},
   "outputs": [
    {
     "name": "stdout",
     "output_type": "stream",
     "text": [
      "81~100\n"
     ]
    }
   ],
   "source": [
    "score = 92\n",
    "if score > 80:\n",
    "    print(\"81~100\")\n",
    "elif score >= 60:\n",
    "    print(\"60~80\")\n",
    "else:\n",
    "    print(\"小於60\")"
   ]
  },
  {
   "cell_type": "code",
   "execution_count": 35,
   "metadata": {},
   "outputs": [
    {
     "ename": "ValueError",
     "evalue": "invalid literal for int() with base 10: ''",
     "output_type": "error",
     "traceback": [
      "\u001b[0;31m---------------------------------------------------------------------------\u001b[0m",
      "\u001b[0;31mValueError\u001b[0m                                Traceback (most recent call last)",
      "Cell \u001b[0;32mIn[35], line 1\u001b[0m\n\u001b[0;32m----> 1\u001b[0m score \u001b[39m=\u001b[39m \u001b[39mint\u001b[39;49m(\u001b[39minput\u001b[39;49m(\u001b[39m\"\u001b[39;49m\u001b[39m請輸入學生分數:\u001b[39;49m\u001b[39m\"\u001b[39;49m))\n\u001b[1;32m      3\u001b[0m \u001b[39mif\u001b[39;00m score \u001b[39m>\u001b[39m\u001b[39m=\u001b[39m \u001b[39m90\u001b[39m:\n\u001b[1;32m      4\u001b[0m     \u001b[39mprint\u001b[39m(\u001b[39m\"\u001b[39m\u001b[39m優\u001b[39m\u001b[39m\"\u001b[39m)\n",
      "\u001b[0;31mValueError\u001b[0m: invalid literal for int() with base 10: ''"
     ]
    }
   ],
   "source": [
    "score = int(input(\"請輸入學生分數:\"))\n",
    "\n",
    "if score >= 90:\n",
    "    print(\"優\")\n",
    "elif score >= 80:\n",
    "    print(\"甲\")\n",
    "elif score >= 70:\n",
    "    print(\"乙\")\n",
    "elif score >= 60:\n",
    "    print(\"丙\")\n",
    "else:\n",
    "    print(\"丁\")"
   ]
  },
  {
   "cell_type": "code",
   "execution_count": 64,
   "metadata": {},
   "outputs": [
    {
     "name": "stdout",
     "output_type": "stream",
     "text": [
      "購買金額為15000\n",
      "實付金額為14250\n"
     ]
    }
   ],
   "source": [
    "m = int(input(\"請輸入購買金額:\"))\n",
    "if m < 10000:\n",
    "    p = m\n",
    "elif m > 10000 and m < 30000:\n",
    "    p = m * 0.95\n",
    "elif m > 30000 and m < 50000:\n",
    "    p = m * 0.9\n",
    "elif m > 50000 and m < 100000:\n",
    "    p = m * 0.85\n",
    "elif m > 100000:\n",
    "    p = m * 0.8\n",
    "print(f\"購買金額為{m}\")\n",
    "print(f\"實付金額為{p:.0f}\")"
   ]
  },
  {
   "cell_type": "code",
   "execution_count": 65,
   "metadata": {},
   "outputs": [
    {
     "name": "stdout",
     "output_type": "stream",
     "text": [
      "獎學金為1000\n"
     ]
    }
   ],
   "source": [
    "c = int(input(\"請輸入國文分數\"))\n",
    "m = int(input(\"請輸入數學分數\"))\n",
    "b = 0 \n",
    "\n",
    "if c == 100 and m ==100:\n",
    "    b = 1000\n",
    "elif c ==100 or m == 100:\n",
    "    b = 500\n",
    "else:\n",
    "    b = 0\n",
    "print(f\"獎學金為{b}\")"
   ]
  }
 ],
 "metadata": {
  "kernelspec": {
   "display_name": "Python 3",
   "language": "python",
   "name": "python3"
  },
  "language_info": {
   "codemirror_mode": {
    "name": "ipython",
    "version": 3
   },
   "file_extension": ".py",
   "mimetype": "text/x-python",
   "name": "python",
   "nbconvert_exporter": "python",
   "pygments_lexer": "ipython3",
   "version": "3.10.8"
  },
  "orig_nbformat": 4
 },
 "nbformat": 4,
 "nbformat_minor": 2
}
